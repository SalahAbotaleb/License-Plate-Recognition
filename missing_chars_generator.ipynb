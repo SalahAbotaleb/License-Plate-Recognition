{
 "cells": [
  {
   "cell_type": "code",
   "execution_count": 4,
   "metadata": {},
   "outputs": [],
   "source": [
    "import cv2\n",
    "import numpy as np\n",
    "import imutils\n",
    "import os"
   ]
  },
  {
   "cell_type": "code",
   "execution_count": 11,
   "metadata": {},
   "outputs": [],
   "source": [
    "def construct_dataset_labels(dir, output_file=\"labels.txt\"):\n",
    "    \n",
    "\n",
    "    # loop over all files\n",
    "    last_file_number = 0\n",
    "    label = \"\"\n",
    "\n",
    "    for file in os.listdir(dir):\n",
    "        if file.endswith('.png'):\n",
    "            file_name = file.split(\".\")[0]\n",
    "            file_number = int(file_name.split(\"_\")[0])\n",
    "            if file_number > last_file_number:\n",
    "                last_file_number = file_number\n",
    "                label = \"\"\n",
    "            first_char = file_name.split(\"-\")[1]\n",
    "            second_char = file_name.split(\"-\")[2]\n",
    "            if first_char == \"O\":\n",
    "                label += second_char\n",
    "            else:\n",
    "                label += first_char\n",
    "            for char in label:\n",
    "                if char == \"ظ\":\n",
    "                    print(file_name)\n",
    "   "
   ]
  },
  {
   "cell_type": "code",
   "execution_count": 12,
   "metadata": {},
   "outputs": [],
   "source": [
    "construct_dataset_labels(\"chars_labeling\\Characters\")"
   ]
  }
 ],
 "metadata": {
  "kernelspec": {
   "display_name": "Python 3",
   "language": "python",
   "name": "python3"
  },
  "language_info": {
   "codemirror_mode": {
    "name": "ipython",
    "version": 3
   },
   "file_extension": ".py",
   "mimetype": "text/x-python",
   "name": "python",
   "nbconvert_exporter": "python",
   "pygments_lexer": "ipython3",
   "version": "3.10.5"
  }
 },
 "nbformat": 4,
 "nbformat_minor": 2
}
