{
 "cells": [
  {
   "cell_type": "code",
   "execution_count": 25,
   "metadata": {},
   "outputs": [],
   "source": [
    "import cv2\n",
    "import numpy as np\n",
    "import imutils\n",
    "import os\n",
    "from commonfunctions import *\n",
    "from sklearn.svm import OneClassSVM\n",
    "from skimage.feature import hog\n",
    "import joblib"
   ]
  },
  {
   "cell_type": "code",
   "execution_count": 55,
   "metadata": {},
   "outputs": [],
   "source": [
    "def train_svm():\n",
    "    features = []\n",
    "    directory = \"Results4\"\n",
    "    for file in os.listdir(directory):\n",
    "        img = cv2.imread(f\"{directory}\\\\{file}\")\n",
    "        # label_file = open(f\"Dataset\\\\Vehicles Labeling\\\\{i:04d}.txt\", \"r\")\n",
    "        # label_data = label_file.read()\n",
    "        # label_file.close()\n",
    "        # label_data = label_data.strip()\n",
    "        # label_data = label_data.replace('\\n', '')\n",
    "        # label_data = label_data.split(\" \")\n",
    "        # label_data = list(map(float, label_data))\n",
    "        # if img is None:\n",
    "        #     continue\n",
    "        # h, w, _ = img.shape\n",
    "        # x_center, y_center, box_width, box_height = label_data[1], label_data[2], label_data[3], label_data[4]\n",
    "        # # Convert YOLO format to corner coordinates\n",
    "        # x1 = int((x_center - box_width / 2) * w)\n",
    "        # y1 = int((y_center - box_height / 2) * h)\n",
    "        # x2 = int((x_center + box_width / 2) * w)\n",
    "        # y2 = int((y_center + box_height / 2) * h)\n",
    "        # plate = img[y1:y2, x1:x2]\n",
    "        plate = img\n",
    "        plate = cv2.resize(plate, (128, 64))\n",
    "        plate = cv2.cvtColor(plate, cv2.COLOR_BGR2GRAY)\n",
    "        hog_features = hog(plate, orientations=9, pixels_per_cell=(8, 8), cells_per_block=(2, 2), block_norm='L2-Hys', transform_sqrt=True, feature_vector=True)    \n",
    "        features.append(hog_features)\n",
    "        \n",
    "    features_train = np.array(features)\n",
    "    clf = OneClassSVM(kernel='rbf', gamma='scale', nu=0.1)\n",
    "    clf.fit(features_train)\n",
    "    \n",
    "    # Save the model\n",
    "    joblib.dump(clf, 'svm.pkl')\n",
    "    return clf\n",
    "        "
   ]
  },
  {
   "cell_type": "code",
   "execution_count": 56,
   "metadata": {},
   "outputs": [],
   "source": [
    "# clf = train_svm()"
   ]
  },
  {
   "cell_type": "code",
   "execution_count": 57,
   "metadata": {},
   "outputs": [],
   "source": [
    "model = joblib.load('svm.pkl')"
   ]
  },
  {
   "cell_type": "code",
   "execution_count": 59,
   "metadata": {},
   "outputs": [],
   "source": [
    "def test_svm(num_samples,model):\n",
    "    max_samples = 2000\n",
    "\n",
    "    random_numbers = np.random.randint(1, max_samples, num_samples)\n",
    "    features = []\n",
    "    for i in random_numbers:\n",
    "        img = cv2.imread(f\"Dataset\\\\Vehicles\\\\{i:04d}.jpg\")\n",
    "        label_file = open(f\"Dataset\\\\Vehicles Labeling\\\\{i:04d}.txt\", \"r\")\n",
    "        label_data = label_file.read()\n",
    "        label_file.close()\n",
    "        label_data = label_data.strip()\n",
    "        label_data = label_data.replace('\\n', '')\n",
    "        label_data = label_data.split(\" \")\n",
    "        label_data = list(map(float, label_data))\n",
    "        \n",
    "        h, w, _ = img.shape\n",
    "        x_center, y_center, box_width, box_height = label_data[1], label_data[2], label_data[3], label_data[4]\n",
    "        # Convert YOLO format to corner coordinates\n",
    "        x1 = int((x_center - box_width / 2) * w)\n",
    "        y1 = int((y_center - box_height / 2) * h)\n",
    "        x2 = int((x_center + box_width / 2) * w)\n",
    "        y2 = int((y_center + box_height / 2) * h)\n",
    "        plate = img[y1:y2, x1:x2]\n",
    "        plate = cv2.resize(plate, (128, 64))\n",
    "        plate = cv2.cvtColor(plate, cv2.COLOR_BGR2GRAY)\n",
    "        hog_features = hog(plate, orientations=9, pixels_per_cell=(8, 8), cells_per_block=(2, 2), block_norm='L2-Hys', transform_sqrt=True, feature_vector=True)    \n",
    "        hog_features = hog_features.reshape(1, -1)\n",
    "        is_plate = model.predict(hog_features)\n",
    "        \n",
    "        print(\"Plate\" if is_plate == 1 else \"Not a Plate\")"
   ]
  },
  {
   "cell_type": "code",
   "execution_count": 60,
   "metadata": {},
   "outputs": [
    {
     "name": "stdout",
     "output_type": "stream",
     "text": [
      "Plate\n",
      "Not a Plate\n",
      "Plate\n",
      "Not a Plate\n",
      "Plate\n",
      "Plate\n",
      "Not a Plate\n",
      "Not a Plate\n",
      "Plate\n",
      "Plate\n"
     ]
    }
   ],
   "source": [
    "test_svm(10,model)"
   ]
  }
 ],
 "metadata": {
  "kernelspec": {
   "display_name": "Python 3",
   "language": "python",
   "name": "python3"
  },
  "language_info": {
   "codemirror_mode": {
    "name": "ipython",
    "version": 3
   },
   "file_extension": ".py",
   "mimetype": "text/x-python",
   "name": "python",
   "nbconvert_exporter": "python",
   "pygments_lexer": "ipython3",
   "version": "3.10.5"
  }
 },
 "nbformat": 4,
 "nbformat_minor": 2
}
